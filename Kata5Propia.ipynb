{
 "cells": [
  {
   "cell_type": "markdown",
   "metadata": {},
   "source": [
    "## KATA 5"
   ]
  },
  {
   "cell_type": "code",
   "execution_count": 10,
   "metadata": {},
   "outputs": [
    {
     "name": "stdout",
     "output_type": "stream",
     "text": [
      "LA DISTANCIA ENTRE LOS DOS PLANETAS ES DE\n",
      "628949330 Kilometros\n",
      "390577533.93 Millas\n"
     ]
    }
   ],
   "source": [
    "tierra = 149597870\n",
    "jupiter =778547200\n",
    "##DATOS EN KILOMETROS\n",
    "print(\"LA DISTANCIA ENTRE LOS DOS PLANETAS ES DE\")\n",
    "difKm=jupiter-tierra\n",
    "print(str(difKm)+\" Kilometros\")\n",
    "difMillas=difKm*0.621\n",
    "print(str(difMillas)+ \" Millas\")"
   ]
  },
  {
   "cell_type": "code",
   "execution_count": 14,
   "metadata": {},
   "outputs": [
    {
     "name": "stdout",
     "output_type": "stream",
     "text": [
      "LA DISTANCIA ENTRE LOS DOS PLANETAS ES DE\n",
      "628949330 Kilometros\n",
      "390577533.93\n"
     ]
    }
   ],
   "source": [
    "primer_pla = input('Introduzca la distancia del sol para el primer planeta en KM')\n",
    "segundo_pla = input('Introduzca la distancia desde el sol para el segundo planeta en KM')\n",
    "primer_pla = int(primer_pla)\n",
    "segundo_pla = int(segundo_pla)\n",
    "print(\"LA DISTANCIA ENTRE LOS DOS PLANETAS ES DE\")\n",
    "difKm=primer_pla-segundo_pla\n",
    "print(str(difKm)+\" Kilometros\")\n",
    "difMillas =difKm*0.621\n",
    "print(abs(difMillas))"
   ]
  }
 ],
 "metadata": {
  "interpreter": {
   "hash": "9b520549d597f8e36f76d3bc0cd29b3a9459cd50f882eeff879cdf1c93acdfc3"
  },
  "kernelspec": {
   "display_name": "Python 3.10.2 64-bit",
   "language": "python",
   "name": "python3"
  },
  "language_info": {
   "codemirror_mode": {
    "name": "ipython",
    "version": 3
   },
   "file_extension": ".py",
   "mimetype": "text/x-python",
   "name": "python",
   "nbconvert_exporter": "python",
   "pygments_lexer": "ipython3",
   "version": "3.10.2"
  },
  "orig_nbformat": 4
 },
 "nbformat": 4,
 "nbformat_minor": 2
}
