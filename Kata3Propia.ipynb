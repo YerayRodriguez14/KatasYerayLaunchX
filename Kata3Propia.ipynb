{
 "cells": [
  {
   "cell_type": "markdown",
   "metadata": {},
   "source": [
    "## EJERCICIO KATA3"
   ]
  },
  {
   "cell_type": "code",
   "execution_count": null,
   "metadata": {},
   "outputs": [],
   "source": [
    "a=49\n",
    "if a>25:\n",
    "    print(\"HAY UN ASTEORIDE EN CAMINO, HUYE\")\n",
    "else:\n",
    "    print(\"No hay de que preocuparse\")"
   ]
  },
  {
   "cell_type": "code",
   "execution_count": 1,
   "metadata": {},
   "outputs": [
    {
     "name": "stdout",
     "output_type": "stream",
     "text": [
      "Tranquilos\n"
     ]
    }
   ],
   "source": [
    "a=19\n",
    "if a>20:\n",
    "    print(\"SE AVECINA UN ASTEROIDE\")\n",
    "elif a==20:\n",
    "    print(\"SE AVECINA UN ASTEROIDE\")\n",
    "else:\n",
    "    print(\"Tranquilos\")"
   ]
  },
  {
   "cell_type": "code",
   "execution_count": null,
   "metadata": {},
   "outputs": [],
   "source": [
    "velocidad = 25\n",
    "tamano = 40\n",
    "if velocidad > 25 and tamano >25:\n",
    "    print(\"Asteroide en camino\")\n",
    "elif velocidad >= 20:\n",
    "    print(\"Luz magica en e cielo\")\n",
    "elif tamano < 25:\n",
    "    print(\"No hay de que preocuparse\")\n",
    "else:\n",
    "    print(\"No hay de que preocuparse\")"
   ]
  }
 ],
 "metadata": {
  "interpreter": {
   "hash": "9b520549d597f8e36f76d3bc0cd29b3a9459cd50f882eeff879cdf1c93acdfc3"
  },
  "kernelspec": {
   "display_name": "Python 3.10.2 64-bit",
   "language": "python",
   "name": "python3"
  },
  "language_info": {
   "codemirror_mode": {
    "name": "ipython",
    "version": 3
   },
   "file_extension": ".py",
   "mimetype": "text/x-python",
   "name": "python",
   "nbconvert_exporter": "python",
   "pygments_lexer": "ipython3",
   "version": "3.10.2"
  },
  "orig_nbformat": 4
 },
 "nbformat": 4,
 "nbformat_minor": 2
}
